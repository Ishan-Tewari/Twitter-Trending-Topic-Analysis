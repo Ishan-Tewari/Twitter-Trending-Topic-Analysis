{
  "nbformat": 4,
  "nbformat_minor": 0,
  "metadata": {
    "kernelspec": {
      "language": "python",
      "display_name": "Python 3",
      "name": "python3"
    },
    "language_info": {
      "name": "python",
      "version": "3.7.10",
      "mimetype": "text/x-python",
      "codemirror_mode": {
        "name": "ipython",
        "version": 3
      },
      "pygments_lexer": "ipython3",
      "nbconvert_exporter": "python",
      "file_extension": ".py"
    },
    "colab": {
      "name": "Twitter Trending Topic Analysis.ipynb",
      "provenance": []
    }
  },
  "cells": [
    {
      "cell_type": "markdown",
      "metadata": {
        "id": "uKfUXV5-gqal"
      },
      "source": [
        "\n",
        "# Twitter Trending Topic Analysis: #\n",
        "\n",
        "***\n",
        "\n",
        "## Objective : \n",
        "\n",
        "<p>\n",
        "Mining twitter data for discovering what topics Indians are discussing in the recent times.  \n",
        "\n",
        "- Use LDA (Latent Dirichlet Allocation) or other topic identification techniques.\n",
        "\n",
        "- Provide a deep analysis.\n",
        "</p>\n",
        "\n",
        "***\n",
        "</br>\n",
        "\n",
        "## Importing required libraries :\n"
      ]
    },
    {
      "cell_type": "code",
      "metadata": {
        "trusted": true,
        "id": "UjdbA-Q-gqan"
      },
      "source": [
        "import numpy as np\n",
        "import pandas as pd \n",
        "import re\n",
        "\n",
        "import gensim\n",
        "from gensim import corpora, models, similarities\n",
        "from gensim.parsing.preprocessing import STOPWORDS\n",
        "from nltk.corpus import stopwords\n",
        "\n",
        "home = '../input/twitterrecentindia/'"
      ],
      "execution_count": null,
      "outputs": []
    },
    {
      "cell_type": "markdown",
      "metadata": {
        "id": "3pSUc6k-gqao"
      },
      "source": [
        "# Processing tweets with NLP #\n",
        "\n",
        "***\n",
        "\n",
        "#### *The steps we followed to process the stored Tweets are:*\n",
        "\n",
        "- *a)* Delete unnecessary data: usernames,emails,hyperlinks, retweets, punctuation, duplicate characters, and special characters like emoticons.\n",
        "\n",
        "- *b)* Normalize whitespace (convert multiple sequential whitespace chars into one whitespace character).\n",
        "\n",
        "- *c)* Convert hashtags into separate words, for example, thehashtag #IndianMedia is converted into two words, Indian and Media.\n",
        "\n",
        "- *d)* Create a function to translate the given language to english\n",
        "\n",
        "- *e)* Create a function for automatic correction of spelling mistakes.\n",
        "\n",
        "- *f)* Create a list of contractions to normalize and expand words. For example: What's=>What is\n",
        "\n",
        "- *g)* Delete the suffix of a word until we find the root. For example: Stemming => stem\n",
        "\n",
        "- *h)* Remove english, hindi, hinglish stopwords\n"
      ]
    },
    {
      "cell_type": "markdown",
      "metadata": {
        "id": "mb8L4itIgqap"
      },
      "source": [
        "## A) Delete unnecessary data: usernames, emails, hyperlinks, punctuation, duplicate characters, and special characters like smileys (emoji). ##"
      ]
    },
    {
      "cell_type": "code",
      "metadata": {
        "trusted": true,
        "id": "ZbbBtx4Xgqap",
        "outputId": "e4653882-b973-4d5c-9f7c-9bc57f498b70"
      },
      "source": [
        "# first to detect the types of emoji and to eliminate them we use the demoji library from https://pypi.org/project/demoji/\n",
        "!pip install demoji\n",
        "\n",
        "import demoji\n",
        "demoji.download_codes()"
      ],
      "execution_count": null,
      "outputs": [
        {
          "output_type": "stream",
          "text": [
            "Collecting demoji\n",
            "  Downloading demoji-0.4.0-py2.py3-none-any.whl (10 kB)\n",
            "Requirement already satisfied: requests<3.0.0 in /opt/conda/lib/python3.7/site-packages (from demoji) (2.25.1)\n",
            "Requirement already satisfied: colorama in /opt/conda/lib/python3.7/site-packages (from demoji) (0.4.4)\n",
            "Requirement already satisfied: chardet<5,>=3.0.2 in /opt/conda/lib/python3.7/site-packages (from requests<3.0.0->demoji) (4.0.0)\n",
            "Requirement already satisfied: urllib3<1.27,>=1.21.1 in /opt/conda/lib/python3.7/site-packages (from requests<3.0.0->demoji) (1.26.4)\n",
            "Requirement already satisfied: certifi>=2017.4.17 in /opt/conda/lib/python3.7/site-packages (from requests<3.0.0->demoji) (2020.12.5)\n",
            "Requirement already satisfied: idna<3,>=2.5 in /opt/conda/lib/python3.7/site-packages (from requests<3.0.0->demoji) (2.10)\n",
            "Installing collected packages: demoji\n",
            "Successfully installed demoji-0.4.0\n",
            "Downloading emoji data ...\n",
            "... OK (Got response in 0.25 seconds)\n",
            "Writing emoji data to /root/.demoji/codes.json ...\n",
            "... OK\n"
          ],
          "name": "stdout"
        }
      ]
    },
    {
      "cell_type": "code",
      "metadata": {
        "trusted": true,
        "id": "pJNs33wKgqaq",
        "outputId": "5289a3c9-be1f-4b53-f180-ceb06de6e6ac"
      },
      "source": [
        "'''Using the Downloaded demoji data to remove emojis from the text'''\n",
        "df = pd.read_json(home + 'demoji.json')\n",
        "df"
      ],
      "execution_count": null,
      "outputs": [
        {
          "output_type": "execute_result",
          "data": {
            "text/plain": [
              "                        timestamp      codes\n",
              "#⃣  2019-12-30 15:26:02.615219200  keycap: #\n",
              "#️⃣ 2019-12-30 15:26:02.615219200  keycap: #\n",
              "*⃣  2019-12-30 15:26:02.615219200  keycap: *\n",
              "*️⃣ 2019-12-30 15:26:02.615219200  keycap: *\n",
              "0⃣  2019-12-30 15:26:02.615219200  keycap: 0\n",
              "..                            ...        ...\n",
              "🪑   2019-12-30 15:26:02.615219200      chair\n",
              "🪒   2019-12-30 15:26:02.615219200      razor\n",
              "🪓   2019-12-30 15:26:02.615219200        axe\n",
              "🪔   2019-12-30 15:26:02.615219200  diya lamp\n",
              "🪕   2019-12-30 15:26:02.615219200      banjo\n",
              "\n",
              "[3836 rows x 2 columns]"
            ],
            "text/html": [
              "<div>\n",
              "<style scoped>\n",
              "    .dataframe tbody tr th:only-of-type {\n",
              "        vertical-align: middle;\n",
              "    }\n",
              "\n",
              "    .dataframe tbody tr th {\n",
              "        vertical-align: top;\n",
              "    }\n",
              "\n",
              "    .dataframe thead th {\n",
              "        text-align: right;\n",
              "    }\n",
              "</style>\n",
              "<table border=\"1\" class=\"dataframe\">\n",
              "  <thead>\n",
              "    <tr style=\"text-align: right;\">\n",
              "      <th></th>\n",
              "      <th>timestamp</th>\n",
              "      <th>codes</th>\n",
              "    </tr>\n",
              "  </thead>\n",
              "  <tbody>\n",
              "    <tr>\n",
              "      <th>#⃣</th>\n",
              "      <td>2019-12-30 15:26:02.615219200</td>\n",
              "      <td>keycap: #</td>\n",
              "    </tr>\n",
              "    <tr>\n",
              "      <th>#️⃣</th>\n",
              "      <td>2019-12-30 15:26:02.615219200</td>\n",
              "      <td>keycap: #</td>\n",
              "    </tr>\n",
              "    <tr>\n",
              "      <th>*⃣</th>\n",
              "      <td>2019-12-30 15:26:02.615219200</td>\n",
              "      <td>keycap: *</td>\n",
              "    </tr>\n",
              "    <tr>\n",
              "      <th>*️⃣</th>\n",
              "      <td>2019-12-30 15:26:02.615219200</td>\n",
              "      <td>keycap: *</td>\n",
              "    </tr>\n",
              "    <tr>\n",
              "      <th>0⃣</th>\n",
              "      <td>2019-12-30 15:26:02.615219200</td>\n",
              "      <td>keycap: 0</td>\n",
              "    </tr>\n",
              "    <tr>\n",
              "      <th>...</th>\n",
              "      <td>...</td>\n",
              "      <td>...</td>\n",
              "    </tr>\n",
              "    <tr>\n",
              "      <th>🪑</th>\n",
              "      <td>2019-12-30 15:26:02.615219200</td>\n",
              "      <td>chair</td>\n",
              "    </tr>\n",
              "    <tr>\n",
              "      <th>🪒</th>\n",
              "      <td>2019-12-30 15:26:02.615219200</td>\n",
              "      <td>razor</td>\n",
              "    </tr>\n",
              "    <tr>\n",
              "      <th>🪓</th>\n",
              "      <td>2019-12-30 15:26:02.615219200</td>\n",
              "      <td>axe</td>\n",
              "    </tr>\n",
              "    <tr>\n",
              "      <th>🪔</th>\n",
              "      <td>2019-12-30 15:26:02.615219200</td>\n",
              "      <td>diya lamp</td>\n",
              "    </tr>\n",
              "    <tr>\n",
              "      <th>🪕</th>\n",
              "      <td>2019-12-30 15:26:02.615219200</td>\n",
              "      <td>banjo</td>\n",
              "    </tr>\n",
              "  </tbody>\n",
              "</table>\n",
              "<p>3836 rows × 2 columns</p>\n",
              "</div>"
            ]
          },
          "metadata": {
            "tags": []
          },
          "execution_count": 3
        }
      ]
    },
    {
      "cell_type": "code",
      "metadata": {
        "trusted": true,
        "id": "7z2ErggPgqaq"
      },
      "source": [
        "demoji_df = pd.read_json(home + 'demoji.json', encoding='utf-8') # from https://pypi.org/project/demoji/\n",
        "demoji_df.reset_index(inplace=True)\n",
        "demoji_df.astype({\"index\": str})\n",
        "\n",
        "def delete_unnecessary_data(tweet):\n",
        "    #delete @username\n",
        "    tweet = re.sub('@[^\\s]+','',tweet)\n",
        "    \n",
        "    #delete www.* or https?://* \n",
        "    tweet = re.sub('((www\\.[^\\s]+)|(https?://[^\\s]+))','',tweet)\n",
        "    \n",
        "    #delete username\n",
        "    tweet = re.sub('username[^\\s]+','',tweet)\n",
        "    \n",
        "    #delete emails\n",
        "    tweet = re.sub('[^\\s@]+@[^\\s@]+',' ',tweet)\n",
        "\n",
        "    #delete javascript tags\n",
        "    tweet =re.sub('< *script*>.*?< *script*>',' ',tweet)\n",
        "    \n",
        "    #delete all html tags\n",
        "    tweet = re.sub('<.*?>',' ',tweet)\n",
        "    \n",
        "    #delete numbers \n",
        "    tweet = re.sub(\"[0-9><,]+\",\" \",tweet)\n",
        "    \n",
        "    #delete blank line\n",
        "    tweet = re.sub(r\"\\n+|┊\",\" \",tweet)\n",
        "\n",
        "    #delete duplicate characters\n",
        "    tweet = re.sub(r\"(.)\\1{2,}\", r\"\\1\\1\", tweet)\n",
        "    \n",
        "    #Remove special characters like smileys (imojie)\n",
        "    '''\n",
        "    😂🤷‍♀️❤️🔴📢✅❎🥘↘️🌻♥️♥️♥️🥵🆚📅🕗📍👋😩😢🙌🏾🔥😮💖😭👄❤🤢💥💣\n",
        "    🎄❤❤🐪🐱💰🏷⭐🙄😍🙌👇💚😭😹🌸💛🙏👏😔🎁🥰❄🎄💤\n",
        "    '''     \n",
        "    for code in demoji_df[\"index\"]:\n",
        "        try:\n",
        "            tweet = re.sub(code, '', tweet)\n",
        "        except:\n",
        "            pass\n",
        "        \n",
        "    return tweet"
      ],
      "execution_count": null,
      "outputs": []
    },
    {
      "cell_type": "markdown",
      "metadata": {
        "id": "UCW56cHjgqar"
      },
      "source": [
        "**Testing our function**"
      ]
    },
    {
      "cell_type": "code",
      "metadata": {
        "trusted": true,
        "id": "0XB6H2t6gqar",
        "outputId": "a927c57f-96fc-4e97-9e82-ac53f7e403f4"
      },
      "source": [
        "text = \"@abc tu kya kar rha tha 😂😂😂😉😉\"\n",
        "# text =' ┊ test'\n",
        "\n",
        "print(\"Text Before: \",text)\n",
        "text = delete_unnecessary_data(text)\n",
        "print(\"Text After: \",text)"
      ],
      "execution_count": null,
      "outputs": [
        {
          "output_type": "stream",
          "text": [
            "Text Before:  @abc tu kya kar rha tha 😂😂😂😉😉\n",
            "Text After:   tu kya kar rha tha \n"
          ],
          "name": "stdout"
        }
      ]
    },
    {
      "cell_type": "markdown",
      "metadata": {
        "id": "ShcyKSXbgqas"
      },
      "source": [
        "## B) Normalize whitespace (convert multiple sequential whitespace chars into one whitespace character). ##"
      ]
    },
    {
      "cell_type": "code",
      "metadata": {
        "trusted": true,
        "id": "2twGWQi0gqas"
      },
      "source": [
        "def normalize_whitespace(tweet):\n",
        "    tweet = re.sub('[\\s]+', ' ', tweet)\n",
        "    return tweet"
      ],
      "execution_count": null,
      "outputs": []
    },
    {
      "cell_type": "markdown",
      "metadata": {
        "id": "GMHIzyASgqas"
      },
      "source": [
        "**Testing our Funtion**"
      ]
    },
    {
      "cell_type": "code",
      "metadata": {
        "trusted": true,
        "id": "3YcXNSN4gqas",
        "outputId": "8fd45cb5-6ff7-44fb-a7a8-1ca2c4181c1f"
      },
      "source": [
        "text = \"         dhaskdjhaskdabsdba l lkad.    ljdald. \"\n",
        "print(\"Text Before: \",text)\n",
        "text = normalize_whitespace(text)\n",
        "print(\"Text After: \",text)"
      ],
      "execution_count": null,
      "outputs": [
        {
          "output_type": "stream",
          "text": [
            "Text Before:           dhaskdjhaskdabsdba l lkad.    ljdald. \n",
            "Text After:   dhaskdjhaskdabsdba l lkad. ljdald. \n"
          ],
          "name": "stdout"
        }
      ]
    },
    {
      "cell_type": "markdown",
      "metadata": {
        "id": "1y6UtZojgqat"
      },
      "source": [
        "## C) Convert hashtags into separate words"
      ]
    },
    {
      "cell_type": "code",
      "metadata": {
        "trusted": true,
        "id": "FtKr3Dmbgqat"
      },
      "source": [
        "def sp_h(hashtag_string):\n",
        "    fo = re.compile(r'#[A-Z]{2,}(?![a-z])|[A-Z][a-z]+')\n",
        "    fi = fo.findall(hashtag_string)\n",
        "    return ' '.join(fi)\n",
        "\n",
        "def split_hashtag(tweet):\n",
        "    tweet = re.sub(r'#[^\\s]+', lambda m: sp_h(m.group()), tweet)  #CovidCrisis => Covid Crisis\n",
        "    return tweet"
      ],
      "execution_count": null,
      "outputs": []
    },
    {
      "cell_type": "code",
      "metadata": {
        "trusted": true,
        "id": "wax5rkzKgqat"
      },
      "source": [
        "def remove_punctuation(tweet):\n",
        "    tweet = re.sub('[^\\w\\s\\']',' ',tweet)\n",
        "    return tweet"
      ],
      "execution_count": null,
      "outputs": []
    },
    {
      "cell_type": "markdown",
      "metadata": {
        "id": "9liSshbpgqat"
      },
      "source": [
        "**Testing our funtion**"
      ]
    },
    {
      "cell_type": "code",
      "metadata": {
        "trusted": true,
        "id": "pLzSP-wLgqau",
        "outputId": "7e80105a-126f-4599-e9e1-854429a8524c"
      },
      "source": [
        "text = \"#CovidCrisis\"\n",
        "print(\"Text Before: \",text)\n",
        "text = split_hashtag(text);\n",
        "print(\"Text After: \",text)"
      ],
      "execution_count": null,
      "outputs": [
        {
          "output_type": "stream",
          "text": [
            "Text Before:  #CovidCrisis\n",
            "Text After:  Covid Crisis\n"
          ],
          "name": "stdout"
        }
      ]
    },
    {
      "cell_type": "markdown",
      "metadata": {
        "id": "ThjUSgMBgqau"
      },
      "source": [
        "## D) Creating a function to translate the text to English. ##"
      ]
    },
    {
      "cell_type": "code",
      "metadata": {
        "trusted": true,
        "id": "UMlOcI1xgqau",
        "outputId": "e45107df-8983-462d-bd16-ac71eb044166"
      },
      "source": [
        "# !pip install googletrans==3.1.0a0\n",
        "import googletrans\n",
        "from googletrans import Translator\n",
        "\n",
        "def translate_to_english(tweet):\n",
        "    translator = Translator()\n",
        "    tweet = translator.translate(tweet).text\n",
        "    return tweet"
      ],
      "execution_count": null,
      "outputs": [
        {
          "output_type": "stream",
          "text": [
            "Collecting googletrans==3.1.0a0\n",
            "  Downloading googletrans-3.1.0a0.tar.gz (19 kB)\n",
            "Collecting httpx==0.13.3\n",
            "  Downloading httpx-0.13.3-py3-none-any.whl (55 kB)\n",
            "     |████████████████████████████████| 55 kB 657 kB/s eta 0:00:01\n",
            "\u001b[?25hCollecting chardet==3.*\n",
            "  Downloading chardet-3.0.4-py2.py3-none-any.whl (133 kB)\n",
            "     |████████████████████████████████| 133 kB 1.7 MB/s eta 0:00:01\n",
            "\u001b[?25hRequirement already satisfied: idna==2.* in /opt/conda/lib/python3.7/site-packages (from httpx==0.13.3->googletrans==3.1.0a0) (2.10)\n",
            "Requirement already satisfied: certifi in /opt/conda/lib/python3.7/site-packages (from httpx==0.13.3->googletrans==3.1.0a0) (2020.12.5)\n",
            "Collecting hstspreload\n",
            "  Downloading hstspreload-2020.12.22-py3-none-any.whl (994 kB)\n",
            "     |████████████████████████████████| 994 kB 3.6 MB/s eta 0:00:01\n",
            "\u001b[?25hCollecting sniffio\n",
            "  Downloading sniffio-1.2.0-py3-none-any.whl (10 kB)\n",
            "Collecting httpcore==0.9.*\n",
            "  Downloading httpcore-0.9.1-py3-none-any.whl (42 kB)\n",
            "     |████████████████████████████████| 42 kB 771 kB/s eta 0:00:01\n",
            "\u001b[?25hCollecting rfc3986<2,>=1.3\n",
            "  Downloading rfc3986-1.4.0-py2.py3-none-any.whl (31 kB)\n",
            "Collecting h11<0.10,>=0.8\n",
            "  Downloading h11-0.9.0-py2.py3-none-any.whl (53 kB)\n",
            "     |████████████████████████████████| 53 kB 1.2 MB/s eta 0:00:01\n",
            "\u001b[?25hCollecting h2==3.*\n",
            "  Downloading h2-3.2.0-py2.py3-none-any.whl (65 kB)\n",
            "     |████████████████████████████████| 65 kB 1.7 MB/s eta 0:00:011\n",
            "\u001b[?25hCollecting hpack<4,>=3.0\n",
            "  Downloading hpack-3.0.0-py2.py3-none-any.whl (38 kB)\n",
            "Collecting hyperframe<6,>=5.2.0\n",
            "  Downloading hyperframe-5.2.0-py2.py3-none-any.whl (12 kB)\n",
            "Building wheels for collected packages: googletrans\n",
            "  Building wheel for googletrans (setup.py) ... \u001b[?25ldone\n",
            "\u001b[?25h  Created wheel for googletrans: filename=googletrans-3.1.0a0-py3-none-any.whl size=16368 sha256=238e6576780d8455338a502bf6a60db31ad9f7c65ace383b2c982b298fb6aa0c\n",
            "  Stored in directory: /root/.cache/pip/wheels/0c/be/fe/93a6a40ffe386e16089e44dad9018ebab9dc4cb9eb7eab65ae\n",
            "Successfully built googletrans\n",
            "Installing collected packages: hyperframe, hpack, sniffio, h2, h11, rfc3986, httpcore, hstspreload, chardet, httpx, googletrans\n",
            "  Attempting uninstall: chardet\n",
            "    Found existing installation: chardet 4.0.0\n",
            "    Uninstalling chardet-4.0.0:\n",
            "      Successfully uninstalled chardet-4.0.0\n",
            "ERROR: pip's dependency resolver does not currently take into account all the packages that are installed. This behaviour is the source of the following dependency conflicts.\n",
            "jupyterlab-git 0.11.0 requires nbdime<2.0.0,>=1.1.0, but you have nbdime 2.1.0 which is incompatible.\n",
            "aiobotocore 1.3.0 requires botocore<1.20.50,>=1.20.49, but you have botocore 1.20.53 which is incompatible.\n",
            "Successfully installed chardet-3.0.4 googletrans-3.1.0a0 h11-0.9.0 h2-3.2.0 hpack-3.0.0 hstspreload-2020.12.22 httpcore-0.9.1 httpx-0.13.3 hyperframe-5.2.0 rfc3986-1.4.0 sniffio-1.2.0\n"
          ],
          "name": "stdout"
        }
      ]
    },
    {
      "cell_type": "markdown",
      "metadata": {
        "id": "-4urLbwUgqau"
      },
      "source": [
        "**Testing our function**"
      ]
    },
    {
      "cell_type": "code",
      "metadata": {
        "trusted": true,
        "id": "e1tuse4Ngqau",
        "outputId": "ae7607e2-16b3-4157-9346-03c24de79087"
      },
      "source": [
        "text = \"ಜಂಗಮಕ್ಕೆ ಅರಿವ ಮರೆದಾಗಲೆ ಅಪಮಾನ ಹೋಯಿತ್ತು\"\n",
        "# text = \"My name is Ishan\"\n",
        "text = translate_to_english(text)\n",
        "print(text)"
      ],
      "execution_count": null,
      "outputs": [
        {
          "output_type": "stream",
          "text": [
            "As soon as you realize the problem, there is disgrace\n"
          ],
          "name": "stdout"
        }
      ]
    },
    {
      "cell_type": "markdown",
      "metadata": {
        "id": "iycY5Chggqav"
      },
      "source": [
        "## D) Create a function for automatic correction of spelling mistakes. ##"
      ]
    },
    {
      "cell_type": "code",
      "metadata": {
        "trusted": true,
        "id": "1h3g9tNSgqav",
        "outputId": "055b8fca-e2b9-4458-a3a4-4f495c94874e"
      },
      "source": [
        "# !pip install autocorrect\n",
        "from autocorrect import Speller\n",
        "spell = Speller(lang='en')\n",
        "\n",
        "def correct_en(text):\n",
        "    #convert to lower case\n",
        "    text = text.lower()\n",
        "    # Clean the text\n",
        "    text = re.sub(\"\\'s \", \" is\", text) # we have cases like \"Sam is\" or \"Sam's\" (i.e. his) these two cases aren't separable, I choose to compromise are kill \"'s\" directly\n",
        "    text = re.sub(r\" whats \", \" what is \", text, flags=re.IGNORECASE)\n",
        "    text = re.sub(\"\\'ve\", \" have \", text)\n",
        "    text = re.sub(\"n\\'t\", \" not \", text)\n",
        "    text = re.sub(\"i'm\", \"i am\", text, flags=re.IGNORECASE)\n",
        "    text = re.sub(\"\\'re\", \" are \", text)\n",
        "    text = re.sub(\"\\'d\", \" would \", text)\n",
        "    text = re.sub(\"\\'ll\", \" will \", text)\n",
        "    text = re.sub(\"e-mail\", \" email \", text, flags=re.IGNORECASE)\n",
        "    text = re.sub(\"\\(s\\)\", \" \", text, flags=re.IGNORECASE) #mester(s)\n",
        "    text = re.sub(r\" (the[\\s]+|The[\\s]+)?(us(a)?|u\\.s\\.(a\\.)?|united state(s)?) \", \" america \", text)\n",
        "    text = re.sub(r\" uk \", \" england \", text, flags=re.IGNORECASE)\n",
        "    text = re.sub(r\" imrovement \", \" improvement \", text, flags=re.IGNORECASE)\n",
        "    text = re.sub(r\" intially \", \" initially \", text, flags=re.IGNORECASE)\n",
        "    text = re.sub(r\" dms \", \" direct messages \", text, flags=re.IGNORECASE)  \n",
        "    text = re.sub(r\" demonitization \", \" demonetization \", text, flags=re.IGNORECASE) \n",
        "    text = re.sub(r\" actived \", \" active \", text, flags=re.IGNORECASE)\n",
        "    text = re.sub(r\" kms \", \" kilometers \", text, flags=re.IGNORECASE)\n",
        "    text = re.sub(r\" cs \", \" computer science \", text, flags=re.IGNORECASE)\n",
        "    text = re.sub(r\" calender \", \" calendar \", text, flags=re.IGNORECASE)\n",
        "    text = re.sub(r\" ios \", \" operating system \", text, flags=re.IGNORECASE)\n",
        "    text = re.sub(r\" programing \", \" programming \", text, flags=re.IGNORECASE)\n",
        "    text = re.sub(r\" bestfriend \", \" best friend \", text, flags=re.IGNORECASE)\n",
        "    text = re.sub(r\"bn8|god8\" ,'good night', text, flags=re.IGNORECASE)\n",
        "    text = re.sub(r\" 2moro | 2mrrw | 2morrow | 2mrw | tomrw \", \" tomorrow \", text)\n",
        "    text = re.sub(r\" b4 \", \" before \", text)\n",
        "    text = re.sub(r\" otw \", \" on the way \", text)\n",
        "\n",
        "    text = spell(text)\n",
        "\n",
        "    return text"
      ],
      "execution_count": null,
      "outputs": [
        {
          "output_type": "stream",
          "text": [
            "Collecting autocorrect\n",
            "  Downloading autocorrect-2.5.0.tar.gz (622 kB)\n",
            "     |████████████████████████████████| 622 kB 1.3 MB/s eta 0:00:01\n",
            "\u001b[?25hBuilding wheels for collected packages: autocorrect\n",
            "  Building wheel for autocorrect (setup.py) ... \u001b[?25ldone\n",
            "\u001b[?25h  Created wheel for autocorrect: filename=autocorrect-2.5.0-py3-none-any.whl size=621854 sha256=80e9d2331fbdc2c78a2abd951d256dc2dbe2333cb14d612bebba310708fa3971\n",
            "  Stored in directory: /root/.cache/pip/wheels/3d/8e/bd/f6fd900a056a031bf710a00bca338d86f43b83f0c25ab5242f\n",
            "Successfully built autocorrect\n",
            "Installing collected packages: autocorrect\n",
            "Successfully installed autocorrect-2.5.0\n"
          ],
          "name": "stdout"
        }
      ]
    },
    {
      "cell_type": "markdown",
      "metadata": {
        "id": "6tXSiujJgqaw"
      },
      "source": [
        "## Building our Model"
      ]
    },
    {
      "cell_type": "markdown",
      "metadata": {
        "id": "m6vvDKTdgqaw"
      },
      "source": [
        "### Stopwords Removal"
      ]
    },
    {
      "cell_type": "code",
      "metadata": {
        "trusted": true,
        "id": "MVibWAAugqaw"
      },
      "source": [
        "import gensim\n",
        "from gensim.parsing.preprocessing import STOPWORDS\n",
        "from nltk.corpus import stopwords\n",
        "\n",
        "stop_words = stopwords.words('english')\n",
        "\n",
        "hinglish_stop_words = []\n",
        "with open('../input/twitterrecentindia/stop_hinglish.txt','r') as f:\n",
        "    for line in f:\n",
        "           hinglish_stop_words.append(f.readline().rstrip('\\n'))\n",
        "    \n",
        "hindi_stop_words = []\n",
        "with open('../input/twitterrecentindia/stop_hindi.txt','r') as f:\n",
        "    for line in f:\n",
        "           hindi_stop_words.append(f.readline().rstrip('\\n'))\n",
        "\n",
        "# print(hindi_stop_words)\n",
        "\n",
        "\n",
        "stop_words.extend(hindi_stop_words)\n",
        "stop_words.extend(hinglish_stop_words)\n"
      ],
      "execution_count": null,
      "outputs": []
    },
    {
      "cell_type": "markdown",
      "metadata": {
        "id": "UTWaNhpNgqaw"
      },
      "source": [
        "### Stemming ##"
      ]
    },
    {
      "cell_type": "code",
      "metadata": {
        "trusted": true,
        "id": "w0YuuwbQgqax"
      },
      "source": [
        "import nltk\n",
        "# nltk.download('wordnet')\n",
        "from nltk.stem import WordNetLemmatizer, SnowballStemmer, PorterStemmer\n",
        "\n",
        "stemmer = PorterStemmer()\n",
        "\n",
        "def tokenize_stemming(text):\n",
        "    text = re.sub(r'[^\\w\\s]','',text)\n",
        "    #replace multiple spaces with one space\n",
        "    text = re.sub(r'[\\s]+',' ',text)\n",
        "    #transfer text to lowercase\n",
        "    text = text.lower() \n",
        "    # tokenize text\n",
        "    tokens = re.split(\" \", text)\n",
        "\n",
        "    # Remove stop words \n",
        "    result = []\n",
        "    for token in tokens :\n",
        "        if token not in stop_words and len(token) > 1:\n",
        "            result.append(stemmer.stem(token))\n",
        "\n",
        "    return result"
      ],
      "execution_count": null,
      "outputs": []
    },
    {
      "cell_type": "markdown",
      "metadata": {
        "id": "uaT6htZNgqax"
      },
      "source": [
        "### Combining all the preprocessing"
      ]
    },
    {
      "cell_type": "code",
      "metadata": {
        "trusted": true,
        "id": "b957TtzKgqax"
      },
      "source": [
        "def preprocess(tweet):\n",
        "    tweet = translate_to_english(tweet)\n",
        "    tweet = delete_unnecessary_data(tweet)\n",
        "    tweet = normalize_whitespace(tweet)\n",
        "    tweet = split_hashtag(tweet)\n",
        "    tweet = remove_punctuation(tweet)\n",
        "    tweet = correct_en(tweet)\n",
        "    tokens = tokenize_stemming(tweet)\n",
        "    return tokens"
      ],
      "execution_count": null,
      "outputs": []
    },
    {
      "cell_type": "markdown",
      "metadata": {
        "id": "ijYj3_NBgqax"
      },
      "source": [
        "**Testing Preprocessing**"
      ]
    },
    {
      "cell_type": "code",
      "metadata": {
        "trusted": true,
        "id": "zF1yCR0zgqay",
        "outputId": "30c71841-c11e-49b2-9035-6546f5777d6c"
      },
      "source": [
        "tweet = \"Main yaha jaana chahta hu\"\n",
        "\n",
        "preprocess(tweet)"
      ],
      "execution_count": null,
      "outputs": [
        {
          "output_type": "execute_result",
          "data": {
            "text/plain": [
              "['want', 'go']"
            ]
          },
          "metadata": {
            "tags": []
          },
          "execution_count": 18
        }
      ]
    },
    {
      "cell_type": "markdown",
      "metadata": {
        "id": "EPrJT5hPgqay"
      },
      "source": [
        "### Loading the data\n",
        "***"
      ]
    },
    {
      "cell_type": "code",
      "metadata": {
        "trusted": true,
        "id": "uRqm-Lgrgqay",
        "outputId": "88669a18-63ca-4cb7-81d7-86c913cd0276"
      },
      "source": [
        "df = pd.read_csv('../input/twitterrecentindia/twitter_data.csv')\n",
        "df"
      ],
      "execution_count": null,
      "outputs": [
        {
          "output_type": "execute_result",
          "data": {
            "text/plain": [
              "      Unnamed: 0                       date  \\\n",
              "0              0  2021-05-04 17:43:12+00:00   \n",
              "1              1  2021-05-04 17:43:12+00:00   \n",
              "2              2  2021-05-04 17:43:12+00:00   \n",
              "3              3  2021-05-04 17:43:12+00:00   \n",
              "4              4  2021-05-04 17:43:12+00:00   \n",
              "...          ...                        ...   \n",
              "5995        5995  2021-05-04 17:36:56+00:00   \n",
              "5996        5996  2021-05-04 17:36:56+00:00   \n",
              "5997        5997  2021-05-04 17:36:56+00:00   \n",
              "5998        5998  2021-05-04 17:36:56+00:00   \n",
              "5999        5999  2021-05-04 17:36:56+00:00   \n",
              "\n",
              "                                                content  \n",
              "0                     @pta_nahin Finally you got it lol  \n",
              "1                           🤣🤣🤣 https://t.co/DIC1DbFbPQ  \n",
              "2          Illusion or reality? https://t.co/vyaXvulNDK  \n",
              "3      @i_am_IBBU follow me ifb https://t.co/HJ6H7buMTx  \n",
              "4                                      @wattal_pooja 🙏😊  \n",
              "...                                                 ...  \n",
              "5995                  @RumiTweets_ Musa.Alehisalaam....  \n",
              "5996                               @Alibhatti7642 Duain  \n",
              "5997  @thakkar_sameet कपिल मिश्रा को बस एक महीने को ...  \n",
              "5998                 @AzharNazir0055 Issi m tu mzza😂😂😂😂  \n",
              "5999  🙏🙏🙏🙏...@sunilyadv_unnao @yadavakhilesh @Brajes...  \n",
              "\n",
              "[6000 rows x 3 columns]"
            ],
            "text/html": [
              "<div>\n",
              "<style scoped>\n",
              "    .dataframe tbody tr th:only-of-type {\n",
              "        vertical-align: middle;\n",
              "    }\n",
              "\n",
              "    .dataframe tbody tr th {\n",
              "        vertical-align: top;\n",
              "    }\n",
              "\n",
              "    .dataframe thead th {\n",
              "        text-align: right;\n",
              "    }\n",
              "</style>\n",
              "<table border=\"1\" class=\"dataframe\">\n",
              "  <thead>\n",
              "    <tr style=\"text-align: right;\">\n",
              "      <th></th>\n",
              "      <th>Unnamed: 0</th>\n",
              "      <th>date</th>\n",
              "      <th>content</th>\n",
              "    </tr>\n",
              "  </thead>\n",
              "  <tbody>\n",
              "    <tr>\n",
              "      <th>0</th>\n",
              "      <td>0</td>\n",
              "      <td>2021-05-04 17:43:12+00:00</td>\n",
              "      <td>@pta_nahin Finally you got it lol</td>\n",
              "    </tr>\n",
              "    <tr>\n",
              "      <th>1</th>\n",
              "      <td>1</td>\n",
              "      <td>2021-05-04 17:43:12+00:00</td>\n",
              "      <td>🤣🤣🤣 https://t.co/DIC1DbFbPQ</td>\n",
              "    </tr>\n",
              "    <tr>\n",
              "      <th>2</th>\n",
              "      <td>2</td>\n",
              "      <td>2021-05-04 17:43:12+00:00</td>\n",
              "      <td>Illusion or reality? https://t.co/vyaXvulNDK</td>\n",
              "    </tr>\n",
              "    <tr>\n",
              "      <th>3</th>\n",
              "      <td>3</td>\n",
              "      <td>2021-05-04 17:43:12+00:00</td>\n",
              "      <td>@i_am_IBBU follow me ifb https://t.co/HJ6H7buMTx</td>\n",
              "    </tr>\n",
              "    <tr>\n",
              "      <th>4</th>\n",
              "      <td>4</td>\n",
              "      <td>2021-05-04 17:43:12+00:00</td>\n",
              "      <td>@wattal_pooja 🙏😊</td>\n",
              "    </tr>\n",
              "    <tr>\n",
              "      <th>...</th>\n",
              "      <td>...</td>\n",
              "      <td>...</td>\n",
              "      <td>...</td>\n",
              "    </tr>\n",
              "    <tr>\n",
              "      <th>5995</th>\n",
              "      <td>5995</td>\n",
              "      <td>2021-05-04 17:36:56+00:00</td>\n",
              "      <td>@RumiTweets_ Musa.Alehisalaam....</td>\n",
              "    </tr>\n",
              "    <tr>\n",
              "      <th>5996</th>\n",
              "      <td>5996</td>\n",
              "      <td>2021-05-04 17:36:56+00:00</td>\n",
              "      <td>@Alibhatti7642 Duain</td>\n",
              "    </tr>\n",
              "    <tr>\n",
              "      <th>5997</th>\n",
              "      <td>5997</td>\n",
              "      <td>2021-05-04 17:36:56+00:00</td>\n",
              "      <td>@thakkar_sameet कपिल मिश्रा को बस एक महीने को ...</td>\n",
              "    </tr>\n",
              "    <tr>\n",
              "      <th>5998</th>\n",
              "      <td>5998</td>\n",
              "      <td>2021-05-04 17:36:56+00:00</td>\n",
              "      <td>@AzharNazir0055 Issi m tu mzza😂😂😂😂</td>\n",
              "    </tr>\n",
              "    <tr>\n",
              "      <th>5999</th>\n",
              "      <td>5999</td>\n",
              "      <td>2021-05-04 17:36:56+00:00</td>\n",
              "      <td>🙏🙏🙏🙏...@sunilyadv_unnao @yadavakhilesh @Brajes...</td>\n",
              "    </tr>\n",
              "  </tbody>\n",
              "</table>\n",
              "<p>6000 rows × 3 columns</p>\n",
              "</div>"
            ]
          },
          "metadata": {
            "tags": []
          },
          "execution_count": 19
        }
      ]
    },
    {
      "cell_type": "code",
      "metadata": {
        "trusted": true,
        "id": "yXKIiDeTgqay",
        "outputId": "6c974c8c-3970-4f82-8d2f-32e80724f14e"
      },
      "source": [
        "df = df['content']\n",
        "df "
      ],
      "execution_count": null,
      "outputs": [
        {
          "output_type": "execute_result",
          "data": {
            "text/plain": [
              "0                       @pta_nahin Finally you got it lol\n",
              "1                             🤣🤣🤣 https://t.co/DIC1DbFbPQ\n",
              "2            Illusion or reality? https://t.co/vyaXvulNDK\n",
              "3        @i_am_IBBU follow me ifb https://t.co/HJ6H7buMTx\n",
              "4                                        @wattal_pooja 🙏😊\n",
              "                              ...                        \n",
              "5995                    @RumiTweets_ Musa.Alehisalaam....\n",
              "5996                                 @Alibhatti7642 Duain\n",
              "5997    @thakkar_sameet कपिल मिश्रा को बस एक महीने को ...\n",
              "5998                   @AzharNazir0055 Issi m tu mzza😂😂😂😂\n",
              "5999    🙏🙏🙏🙏...@sunilyadv_unnao @yadavakhilesh @Brajes...\n",
              "Name: content, Length: 6000, dtype: object"
            ]
          },
          "metadata": {
            "tags": []
          },
          "execution_count": 20
        }
      ]
    },
    {
      "cell_type": "code",
      "metadata": {
        "trusted": true,
        "id": "T0IQMqfogqay"
      },
      "source": [
        "# df.apply(lambda x: preprocess(x))"
      ],
      "execution_count": null,
      "outputs": []
    },
    {
      "cell_type": "markdown",
      "metadata": {
        "id": "3ZdEM1ungqaz"
      },
      "source": [
        "### Preprocessing all the tweets"
      ]
    },
    {
      "cell_type": "code",
      "metadata": {
        "trusted": true,
        "id": "In5CEwNtgqaz"
      },
      "source": [
        "tokens = []\n",
        "for tweet in df:\n",
        "    tokens.append(preprocess(tweet))"
      ],
      "execution_count": null,
      "outputs": []
    },
    {
      "cell_type": "code",
      "metadata": {
        "trusted": true,
        "id": "ynjx47QJgqaz",
        "outputId": "7610210e-de7f-429c-e33d-ea7f910df43e"
      },
      "source": [
        "tokens[0:5]"
      ],
      "execution_count": null,
      "outputs": [
        {
          "output_type": "execute_result",
          "data": {
            "text/plain": [
              "[['final', 'lol'], [], ['illus', 'realiti'], ['follow'], []]"
            ]
          },
          "metadata": {
            "tags": []
          },
          "execution_count": 23
        }
      ]
    },
    {
      "cell_type": "markdown",
      "metadata": {
        "id": "Snl7DPudgqaz"
      },
      "source": [
        "# How to create Topic Models with LDA? #\n",
        "\n",
        "***\n",
        "\n",
        "<p>\n",
        "The objective of topic models is to extract the underlying topics from a given collection of text documents. Each document in the text is considered as a combination of topics and each topic is considered as a combination of related words.\n",
        "</p>\n",
        "\n",
        "<p>\n",
        "Topic modeling can be done by algorithms like Latent Dirichlet Allocation (LDA) and Latent Semantic Indexing (LSI).\n",
        "</p>\n",
        "\n",
        "<p>\n",
        "In both cases you need to provide the number of topics as input. The topic model, in turn, will provide the topic keywords for each topic and the percentage contribution of topics in each document.\n",
        "</p>\n",
        "\n",
        "<p>\n",
        "The quality of topics is highly dependent on the quality of text processing and the number of topics you provide to the algorithm. The earlier post on how to build best topic models explains the procedure in more detail. However, I recommend understanding the basic steps involved and the interpretation in the example below.\n",
        "</p>\n",
        "</br>\n",
        "\n",
        "*References*: \n",
        "* https://www.machinelearningplus.com/nlp/gensim-tutorial/\n",
        "* https://towardsdatascience.com/topic-modeling-and-latent-dirichlet-allocation-in-python-9bf156893c24\n",
        "* https://github.com/susanli2016/NLP-with-Python/blob/master/LDA_news_headlines.ipynb"
      ]
    },
    {
      "cell_type": "code",
      "metadata": {
        "trusted": true,
        "id": "6QCLxabcgqaz",
        "outputId": "1bfb2a2c-d42f-4ae1-8994-710acf6d930b"
      },
      "source": [
        "dictionary = corpora.Dictionary(tokens)\n",
        "print(dictionary)\n",
        "print(dictionary.num_docs)"
      ],
      "execution_count": null,
      "outputs": [
        {
          "output_type": "stream",
          "text": [
            "Dictionary(9395 unique tokens: ['final', 'lol', 'illus', 'realiti', 'follow']...)\n",
            "6000\n"
          ],
          "name": "stdout"
        }
      ]
    },
    {
      "cell_type": "markdown",
      "metadata": {
        "id": "ADsJJqsmgqa0"
      },
      "source": [
        "We have successfully created a Dictionary object. Gensim will use this dictionary to create a bag-of-words corpus where the words in the documents are replaced with its respective id provided by this dictionary.\n",
        "\n",
        "## Term Frequency"
      ]
    },
    {
      "cell_type": "code",
      "metadata": {
        "trusted": true,
        "id": "VNQTwPFvgqa0",
        "outputId": "fd0765fb-a77d-4326-cdb4-683e466d487c"
      },
      "source": [
        "corpus_doc2bow_vectors = [dictionary.doc2bow(tok_doc) for tok_doc in tokens]\n",
        "print(\"# Term Frequency : \")\n",
        "corpus_doc2bow_vectors[:5]"
      ],
      "execution_count": null,
      "outputs": [
        {
          "output_type": "stream",
          "text": [
            "# Term Frequency : \n"
          ],
          "name": "stdout"
        },
        {
          "output_type": "execute_result",
          "data": {
            "text/plain": [
              "[[(0, 1), (1, 1)], [], [(2, 1), (3, 1)], [(4, 1)], []]"
            ]
          },
          "metadata": {
            "tags": []
          },
          "execution_count": 25
        }
      ]
    },
    {
      "cell_type": "markdown",
      "metadata": {
        "id": "zzADoz-Zgqa0"
      },
      "source": [
        "## TF-IDF"
      ]
    },
    {
      "cell_type": "code",
      "metadata": {
        "trusted": true,
        "id": "ZdV_KUAvgqa0",
        "outputId": "ce7625c8-6e18-4668-d78c-c53a279e73b7"
      },
      "source": [
        "tfidf_model = models.TfidfModel(corpus_doc2bow_vectors, id2word=dictionary, normalize=False)\n",
        "corpus_tfidf_vectors = tfidf_model[corpus_doc2bow_vectors]\n",
        "\n",
        "print(\"\\n\\n# TF_IDF : \")\n",
        "print(corpus_tfidf_vectors[5])"
      ],
      "execution_count": null,
      "outputs": [
        {
          "output_type": "stream",
          "text": [
            "\n",
            "\n",
            "# TF_IDF : \n",
            "[(5, 10.228818690495881), (6, 12.550746785383243), (7, 7.906890595608519), (8, 6.878321443411748), (9, 9.74339186332564), (10, 12.550746785383243), (11, 8.091315166745947), (12, 8.463283944132904), (13, 9.965784284662087), (14, 8.027184829326231), (15, 9.550746785383243), (16, 8.091315166745947)]\n"
          ],
          "name": "stdout"
        }
      ]
    },
    {
      "cell_type": "markdown",
      "metadata": {
        "id": "R_ea22eegqa1"
      },
      "source": [
        "## Running LDA using Bag of Words\n",
        "\n",
        "Train our lda model using gensim.models.LdaMulticore and save it to ‘lda_model’"
      ]
    },
    {
      "cell_type": "code",
      "metadata": {
        "trusted": true,
        "id": "XyjPBc3Egqa1"
      },
      "source": [
        "lda_model = gensim.models.LdaMulticore(corpus_doc2bow_vectors, num_topics=10, id2word=dictionary, passes=2, workers=2)"
      ],
      "execution_count": null,
      "outputs": []
    },
    {
      "cell_type": "markdown",
      "metadata": {
        "id": "8cnx38rTgqa1"
      },
      "source": [
        "For each topic, we will explore the words occuring in that topic and its relative weight."
      ]
    },
    {
      "cell_type": "code",
      "metadata": {
        "trusted": true,
        "id": "XpEPHj1Agqa1",
        "outputId": "96848816-78c8-487e-b842-616ede460425"
      },
      "source": [
        "for idx, topic in lda_model.print_topics(-1):\n",
        "    print('Topic: {} \\nWords: {}'.format(idx, topic))"
      ],
      "execution_count": null,
      "outputs": [
        {
          "output_type": "stream",
          "text": [
            "Topic: 0 \n",
            "Words: 0.008*\"patient\" + 0.008*\"hospit\" + 0.006*\"ki\" + 0.006*\"जय\" + 0.005*\"sir\" + 0.005*\"hai\" + 0.004*\"time\" + 0.004*\"good\" + 0.004*\"bed\" + 0.004*\"govern\"\n",
            "Topic: 1 \n",
            "Words: 0.007*\"hai\" + 0.006*\"ہے\" + 0.005*\"ye\" + 0.005*\"covid\" + 0.005*\"time\" + 0.004*\"سے\" + 0.004*\"get\" + 0.004*\"done\" + 0.004*\"add\" + 0.004*\"rant\"\n",
            "Topic: 2 \n",
            "Words: 0.021*\"bengal\" + 0.016*\"hai\" + 0.009*\"student\" + 0.008*\"सरक\" + 0.008*\"anti\" + 0.008*\"और\" + 0.007*\"violenc\" + 0.007*\"रह\" + 0.007*\"burn\" + 0.007*\"नह\"\n",
            "Topic: 3 \n",
            "Words: 0.045*\"नह\" + 0.035*\"सकत\" + 0.010*\"हत\" + 0.007*\"अपन\" + 0.007*\"लन\" + 0.005*\"बदल\" + 0.005*\"यकर\" + 0.005*\"पक\" + 0.005*\"tha\" + 0.005*\"जनवर\"\n",
            "Topic: 4 \n",
            "Words: 0.015*\"पर\" + 0.012*\"follow\" + 0.009*\"रह\" + 0.009*\"नह\" + 0.009*\"کے\" + 0.006*\"करन\" + 0.006*\"back\" + 0.006*\"نہیں\" + 0.006*\"हम\" + 0.005*\"अपन\"\n",
            "Topic: 5 \n",
            "Words: 0.015*\"hai\" + 0.007*\"ho\" + 0.007*\"नह\" + 0.007*\"सकत\" + 0.007*\"ka\" + 0.005*\"anti\" + 0.005*\"kia\" + 0.005*\"sir\" + 0.004*\"main\" + 0.004*\"रह\"\n",
            "Topic: 6 \n",
            "Words: 0.013*\"covid\" + 0.009*\"hai\" + 0.008*\"india\" + 0.008*\"shit\" + 0.007*\"ki\" + 0.004*\"ho\" + 0.004*\"like\" + 0.004*\"tom\" + 0.004*\"ye\" + 0.003*\"miss\"\n",
            "Topic: 7 \n",
            "Words: 0.009*\"oxygen\" + 0.007*\"covid\" + 0.007*\"good\" + 0.007*\"hai\" + 0.006*\"nazi\" + 0.005*\"amp\" + 0.005*\"hospit\" + 0.005*\"ki\" + 0.004*\"ho\" + 0.004*\"आय\"\n",
            "Topic: 8 \n",
            "Words: 0.017*\"पर\" + 0.012*\"और\" + 0.011*\"नह\" + 0.008*\"रह\" + 0.008*\"میں\" + 0.007*\"आप\" + 0.006*\"वर\" + 0.005*\"सक\" + 0.005*\"ہے\" + 0.005*\"करन\"\n",
            "Topic: 9 \n",
            "Words: 0.023*\"रह\" + 0.011*\"नह\" + 0.008*\"और\" + 0.008*\"लग\" + 0.008*\"पर\" + 0.007*\"अपन\" + 0.006*\"गय\" + 0.005*\"एक\" + 0.005*\"कल\" + 0.005*\"आपक\"\n"
          ],
          "name": "stdout"
        }
      ]
    },
    {
      "cell_type": "markdown",
      "metadata": {
        "id": "mPIlWtGRgqa1"
      },
      "source": [
        "### Distinguish between different topics using the words in each topic and the corresponding weights\n",
        "\n",
        "## Running LDA using TF-IDF"
      ]
    },
    {
      "cell_type": "code",
      "metadata": {
        "trusted": true,
        "id": "DFdjXcfKgqa2",
        "outputId": "ecdb943f-e93b-4f19-9e06-57afd50999e6"
      },
      "source": [
        "lda_model_tfidf = gensim.models.LdaMulticore(corpus_tfidf_vectors, num_topics=10, id2word=dictionary, passes=2, workers=4)\n",
        "for idx, topic in lda_model_tfidf.print_topics(-1):\n",
        "    print('Topic: {} Word: {}'.format(idx, topic))"
      ],
      "execution_count": null,
      "outputs": [
        {
          "output_type": "stream",
          "text": [
            "Topic: 0 Word: 0.010*\"follow\" + 0.007*\"वर\" + 0.005*\"back\" + 0.005*\"rant\" + 0.005*\"रह\" + 0.005*\"hai\" + 0.004*\"नह\" + 0.004*\"ok\" + 0.004*\"shit\" + 0.004*\"सब\"\n",
            "Topic: 1 Word: 0.005*\"हर\" + 0.004*\"पर\" + 0.004*\"govern\" + 0.004*\"bengal\" + 0.003*\"hai\" + 0.003*\"gt\" + 0.003*\"congratul\" + 0.003*\"video\" + 0.003*\"share\" + 0.003*\"रह\"\n",
            "Topic: 2 Word: 0.005*\"bengal\" + 0.005*\"arrest\" + 0.005*\"main\" + 0.004*\"mapdata\" + 0.004*\"sir\" + 0.004*\"hai\" + 0.004*\"tha\" + 0.004*\"kia\" + 0.003*\"data\" + 0.003*\"hospit\"\n",
            "Topic: 3 Word: 0.006*\"रह\" + 0.006*\"सन\" + 0.005*\"hai\" + 0.004*\"रत\" + 0.004*\"लग\" + 0.003*\"सम\" + 0.003*\"ki\" + 0.003*\"और\" + 0.003*\"away\" + 0.003*\"covid\"\n",
            "Topic: 4 Word: 0.007*\"रह\" + 0.005*\"सरक\" + 0.005*\"bengal\" + 0.005*\"पर\" + 0.005*\"आप\" + 0.005*\"और\" + 0.004*\"इस\" + 0.004*\"हम\" + 0.004*\"amp\" + 0.004*\"जन\"\n",
            "Topic: 5 Word: 0.007*\"covid\" + 0.005*\"onlin\" + 0.005*\"colleg\" + 0.005*\"exam\" + 0.005*\"affili\" + 0.004*\"haha\" + 0.004*\"oxygen\" + 0.003*\"america\" + 0.003*\"میں\" + 0.003*\"get\"\n",
            "Topic: 6 Word: 0.013*\"नह\" + 0.008*\"और\" + 0.006*\"पर\" + 0.006*\"सकत\" + 0.005*\"bengal\" + 0.005*\"करन\" + 0.004*\"अपन\" + 0.004*\"रह\" + 0.004*\"کا\" + 0.003*\"ipl\"\n",
            "Topic: 7 Word: 0.006*\"hai\" + 0.005*\"ہے\" + 0.004*\"thank\" + 0.004*\"peopl\" + 0.004*\"domin\" + 0.004*\"کے\" + 0.003*\"میں\" + 0.003*\"amp\" + 0.003*\"add\" + 0.003*\"ki\"\n",
            "Topic: 8 Word: 0.007*\"जय\" + 0.007*\"anti\" + 0.006*\"ho\" + 0.006*\"hai\" + 0.006*\"पर\" + 0.005*\"bhi\" + 0.005*\"student\" + 0.004*\"सर\" + 0.003*\"right\" + 0.003*\"रह\"\n",
            "Topic: 9 Word: 0.019*\"सकत\" + 0.017*\"नह\" + 0.006*\"ہے\" + 0.005*\"हत\" + 0.005*\"रह\" + 0.005*\"good\" + 0.005*\"میں\" + 0.004*\"hai\" + 0.004*\"banana\" + 0.004*\"نے\"\n"
          ],
          "name": "stdout"
        }
      ]
    },
    {
      "cell_type": "markdown",
      "metadata": {
        "id": "Z5bJDOX0gqa2"
      },
      "source": [
        "## Classification of the topics\n",
        "\n",
        "### Performance evaluation by classifying sample document using LDA Bag of Words model\n",
        "\n",
        "We will check where our test document would be classified.\n"
      ]
    },
    {
      "cell_type": "code",
      "metadata": {
        "trusted": true,
        "id": "LnLzLB6zgqa2",
        "outputId": "80894927-8494-4032-d1d3-4320b9bc28ec"
      },
      "source": [
        "for index, score in sorted(lda_model[corpus_doc2bow_vectors[1]], key=lambda tup: -1*tup[1]):\n",
        "    print(\"\\nScore: {}\\t \\nTopic: {}\".format(score, lda_model.print_topic(index, 10)))"
      ],
      "execution_count": null,
      "outputs": [
        {
          "output_type": "stream",
          "text": [
            "\n",
            "Score: 0.10000000149011612\t \n",
            "Topic: 0.008*\"patient\" + 0.008*\"hospit\" + 0.006*\"ki\" + 0.006*\"जय\" + 0.005*\"sir\" + 0.005*\"hai\" + 0.004*\"time\" + 0.004*\"good\" + 0.004*\"bed\" + 0.004*\"govern\"\n",
            "\n",
            "Score: 0.10000000149011612\t \n",
            "Topic: 0.007*\"hai\" + 0.006*\"ہے\" + 0.005*\"ye\" + 0.005*\"covid\" + 0.005*\"time\" + 0.004*\"سے\" + 0.004*\"get\" + 0.004*\"done\" + 0.004*\"add\" + 0.004*\"rant\"\n",
            "\n",
            "Score: 0.10000000149011612\t \n",
            "Topic: 0.021*\"bengal\" + 0.016*\"hai\" + 0.009*\"student\" + 0.008*\"सरक\" + 0.008*\"anti\" + 0.008*\"और\" + 0.007*\"violenc\" + 0.007*\"रह\" + 0.007*\"burn\" + 0.007*\"नह\"\n",
            "\n",
            "Score: 0.10000000149011612\t \n",
            "Topic: 0.045*\"नह\" + 0.035*\"सकत\" + 0.010*\"हत\" + 0.007*\"अपन\" + 0.007*\"लन\" + 0.005*\"बदल\" + 0.005*\"यकर\" + 0.005*\"पक\" + 0.005*\"tha\" + 0.005*\"जनवर\"\n",
            "\n",
            "Score: 0.10000000149011612\t \n",
            "Topic: 0.015*\"पर\" + 0.012*\"follow\" + 0.009*\"रह\" + 0.009*\"नह\" + 0.009*\"کے\" + 0.006*\"करन\" + 0.006*\"back\" + 0.006*\"نہیں\" + 0.006*\"हम\" + 0.005*\"अपन\"\n",
            "\n",
            "Score: 0.10000000149011612\t \n",
            "Topic: 0.015*\"hai\" + 0.007*\"ho\" + 0.007*\"नह\" + 0.007*\"सकत\" + 0.007*\"ka\" + 0.005*\"anti\" + 0.005*\"kia\" + 0.005*\"sir\" + 0.004*\"main\" + 0.004*\"रह\"\n",
            "\n",
            "Score: 0.10000000149011612\t \n",
            "Topic: 0.013*\"covid\" + 0.009*\"hai\" + 0.008*\"india\" + 0.008*\"shit\" + 0.007*\"ki\" + 0.004*\"ho\" + 0.004*\"like\" + 0.004*\"tom\" + 0.004*\"ye\" + 0.003*\"miss\"\n",
            "\n",
            "Score: 0.10000000149011612\t \n",
            "Topic: 0.009*\"oxygen\" + 0.007*\"covid\" + 0.007*\"good\" + 0.007*\"hai\" + 0.006*\"nazi\" + 0.005*\"amp\" + 0.005*\"hospit\" + 0.005*\"ki\" + 0.004*\"ho\" + 0.004*\"आय\"\n",
            "\n",
            "Score: 0.10000000149011612\t \n",
            "Topic: 0.017*\"पर\" + 0.012*\"और\" + 0.011*\"नह\" + 0.008*\"रह\" + 0.008*\"میں\" + 0.007*\"आप\" + 0.006*\"वर\" + 0.005*\"सक\" + 0.005*\"ہے\" + 0.005*\"करन\"\n",
            "\n",
            "Score: 0.10000000149011612\t \n",
            "Topic: 0.023*\"रह\" + 0.011*\"नह\" + 0.008*\"और\" + 0.008*\"लग\" + 0.008*\"पर\" + 0.007*\"अपन\" + 0.006*\"गय\" + 0.005*\"एक\" + 0.005*\"कल\" + 0.005*\"आपक\"\n"
          ],
          "name": "stdout"
        }
      ]
    },
    {
      "cell_type": "markdown",
      "metadata": {
        "id": "dE5B5l2Pgqa2"
      },
      "source": [
        "Our test document has the highest probability to be part of the topic that our model assigned, which is the accurate classification.\n",
        "\n",
        "</br>\n",
        "\n",
        "### Performance evaluation by classifying sample document using LDA TF-IDF model."
      ]
    },
    {
      "cell_type": "code",
      "metadata": {
        "trusted": true,
        "id": "Y3ThotrUgqa2",
        "outputId": "7ad7d8a3-eb59-4ffa-d979-c7d67487b3f2"
      },
      "source": [
        "for index, score in sorted(lda_model_tfidf[corpus_doc2bow_vectors[1]], key=lambda tup: -1*tup[1]):\n",
        "    print(\"\\nScore: {}\\t \\nTopic: {}\".format(score, lda_model_tfidf.print_topic(index, 10)))"
      ],
      "execution_count": null,
      "outputs": [
        {
          "output_type": "stream",
          "text": [
            "\n",
            "Score: 0.10000000149011612\t \n",
            "Topic: 0.010*\"follow\" + 0.007*\"वर\" + 0.005*\"back\" + 0.005*\"rant\" + 0.005*\"रह\" + 0.005*\"hai\" + 0.004*\"नह\" + 0.004*\"ok\" + 0.004*\"shit\" + 0.004*\"सब\"\n",
            "\n",
            "Score: 0.10000000149011612\t \n",
            "Topic: 0.005*\"हर\" + 0.004*\"पर\" + 0.004*\"govern\" + 0.004*\"bengal\" + 0.003*\"hai\" + 0.003*\"gt\" + 0.003*\"congratul\" + 0.003*\"video\" + 0.003*\"share\" + 0.003*\"रह\"\n",
            "\n",
            "Score: 0.10000000149011612\t \n",
            "Topic: 0.005*\"bengal\" + 0.005*\"arrest\" + 0.005*\"main\" + 0.004*\"mapdata\" + 0.004*\"sir\" + 0.004*\"hai\" + 0.004*\"tha\" + 0.004*\"kia\" + 0.003*\"data\" + 0.003*\"hospit\"\n",
            "\n",
            "Score: 0.10000000149011612\t \n",
            "Topic: 0.006*\"रह\" + 0.006*\"सन\" + 0.005*\"hai\" + 0.004*\"रत\" + 0.004*\"लग\" + 0.003*\"सम\" + 0.003*\"ki\" + 0.003*\"और\" + 0.003*\"away\" + 0.003*\"covid\"\n",
            "\n",
            "Score: 0.10000000149011612\t \n",
            "Topic: 0.007*\"रह\" + 0.005*\"सरक\" + 0.005*\"bengal\" + 0.005*\"पर\" + 0.005*\"आप\" + 0.005*\"और\" + 0.004*\"इस\" + 0.004*\"हम\" + 0.004*\"amp\" + 0.004*\"जन\"\n",
            "\n",
            "Score: 0.10000000149011612\t \n",
            "Topic: 0.007*\"covid\" + 0.005*\"onlin\" + 0.005*\"colleg\" + 0.005*\"exam\" + 0.005*\"affili\" + 0.004*\"haha\" + 0.004*\"oxygen\" + 0.003*\"america\" + 0.003*\"میں\" + 0.003*\"get\"\n",
            "\n",
            "Score: 0.10000000149011612\t \n",
            "Topic: 0.013*\"नह\" + 0.008*\"और\" + 0.006*\"पर\" + 0.006*\"सकत\" + 0.005*\"bengal\" + 0.005*\"करन\" + 0.004*\"अपन\" + 0.004*\"रह\" + 0.004*\"کا\" + 0.003*\"ipl\"\n",
            "\n",
            "Score: 0.10000000149011612\t \n",
            "Topic: 0.006*\"hai\" + 0.005*\"ہے\" + 0.004*\"thank\" + 0.004*\"peopl\" + 0.004*\"domin\" + 0.004*\"کے\" + 0.003*\"میں\" + 0.003*\"amp\" + 0.003*\"add\" + 0.003*\"ki\"\n",
            "\n",
            "Score: 0.10000000149011612\t \n",
            "Topic: 0.007*\"जय\" + 0.007*\"anti\" + 0.006*\"ho\" + 0.006*\"hai\" + 0.006*\"पर\" + 0.005*\"bhi\" + 0.005*\"student\" + 0.004*\"सर\" + 0.003*\"right\" + 0.003*\"रह\"\n",
            "\n",
            "Score: 0.10000000149011612\t \n",
            "Topic: 0.019*\"सकत\" + 0.017*\"नह\" + 0.006*\"ہے\" + 0.005*\"हत\" + 0.005*\"रह\" + 0.005*\"good\" + 0.005*\"میں\" + 0.004*\"hai\" + 0.004*\"banana\" + 0.004*\"نے\"\n"
          ],
          "name": "stdout"
        }
      ]
    },
    {
      "cell_type": "code",
      "metadata": {
        "trusted": true,
        "id": "B2KuYXlQgqa3",
        "outputId": "737c74ce-6a10-4b38-cd0e-80477240f91b"
      },
      "source": [
        "import matplotlib.pyplot as plt\n",
        "import matplotlib.image as mpimg \n",
        "import seaborn as sns\n",
        "\n",
        "fig = plt.figure(figsize = (20,30))\n",
        "    \n",
        "for i in range(10):\n",
        "    df = pd.DataFrame(lda_model_tfidf.show_topic(i,12), columns=['term','prob']).set_index('term')\n",
        "    plt.subplot(5,2,i+1)\n",
        "    plt.title('topic'+str(i+1))\n",
        "    sns.barplot(x='prob', y=df.index, data=df)\n",
        "    plt.xlabel('probability')\n",
        "plt.show()"
      ],
      "execution_count": null,
      "outputs": [
        {
          "output_type": "stream",
          "text": [
            "/opt/conda/lib/python3.7/site-packages/matplotlib/backends/backend_agg.py:240: RuntimeWarning: Glyph 2357 missing from current font.\n",
            "  font.set_text(s, 0.0, flags=flags)\n",
            "/opt/conda/lib/python3.7/site-packages/matplotlib/backends/backend_agg.py:240: RuntimeWarning: Glyph 2352 missing from current font.\n",
            "  font.set_text(s, 0.0, flags=flags)\n",
            "/opt/conda/lib/python3.7/site-packages/matplotlib/backends/backend_agg.py:240: RuntimeWarning: Glyph 2361 missing from current font.\n",
            "  font.set_text(s, 0.0, flags=flags)\n",
            "/opt/conda/lib/python3.7/site-packages/matplotlib/backends/backend_agg.py:240: RuntimeWarning: Glyph 2344 missing from current font.\n",
            "  font.set_text(s, 0.0, flags=flags)\n",
            "/opt/conda/lib/python3.7/site-packages/matplotlib/backends/backend_agg.py:240: RuntimeWarning: Glyph 2360 missing from current font.\n",
            "  font.set_text(s, 0.0, flags=flags)\n",
            "/opt/conda/lib/python3.7/site-packages/matplotlib/backends/backend_agg.py:240: RuntimeWarning: Glyph 2348 missing from current font.\n",
            "  font.set_text(s, 0.0, flags=flags)\n",
            "/opt/conda/lib/python3.7/site-packages/matplotlib/backends/backend_agg.py:240: RuntimeWarning: Glyph 2349 missing from current font.\n",
            "  font.set_text(s, 0.0, flags=flags)\n",
            "/opt/conda/lib/python3.7/site-packages/matplotlib/backends/backend_agg.py:240: RuntimeWarning: Glyph 2351 missing from current font.\n",
            "  font.set_text(s, 0.0, flags=flags)\n",
            "/opt/conda/lib/python3.7/site-packages/matplotlib/backends/backend_agg.py:240: RuntimeWarning: Glyph 2340 missing from current font.\n",
            "  font.set_text(s, 0.0, flags=flags)\n",
            "/opt/conda/lib/python3.7/site-packages/matplotlib/backends/backend_agg.py:240: RuntimeWarning: Glyph 2346 missing from current font.\n",
            "  font.set_text(s, 0.0, flags=flags)\n",
            "/opt/conda/lib/python3.7/site-packages/matplotlib/backends/backend_agg.py:240: RuntimeWarning: Glyph 1729 missing from current font.\n",
            "  font.set_text(s, 0.0, flags=flags)\n",
            "/opt/conda/lib/python3.7/site-packages/matplotlib/backends/backend_agg.py:240: RuntimeWarning: Glyph 1746 missing from current font.\n",
            "  font.set_text(s, 0.0, flags=flags)\n",
            "/opt/conda/lib/python3.7/site-packages/matplotlib/backends/backend_agg.py:240: RuntimeWarning: Glyph 2354 missing from current font.\n",
            "  font.set_text(s, 0.0, flags=flags)\n",
            "/opt/conda/lib/python3.7/site-packages/matplotlib/backends/backend_agg.py:240: RuntimeWarning: Glyph 2327 missing from current font.\n",
            "  font.set_text(s, 0.0, flags=flags)\n",
            "/opt/conda/lib/python3.7/site-packages/matplotlib/backends/backend_agg.py:240: RuntimeWarning: Glyph 2350 missing from current font.\n",
            "  font.set_text(s, 0.0, flags=flags)\n",
            "/opt/conda/lib/python3.7/site-packages/matplotlib/backends/backend_agg.py:240: RuntimeWarning: Glyph 2324 missing from current font.\n",
            "  font.set_text(s, 0.0, flags=flags)\n",
            "/opt/conda/lib/python3.7/site-packages/matplotlib/backends/backend_agg.py:240: RuntimeWarning: Glyph 2358 missing from current font.\n",
            "  font.set_text(s, 0.0, flags=flags)\n",
            "/opt/conda/lib/python3.7/site-packages/matplotlib/backends/backend_agg.py:240: RuntimeWarning: Glyph 2325 missing from current font.\n",
            "  font.set_text(s, 0.0, flags=flags)\n",
            "/opt/conda/lib/python3.7/site-packages/matplotlib/backends/backend_agg.py:240: RuntimeWarning: Glyph 2310 missing from current font.\n",
            "  font.set_text(s, 0.0, flags=flags)\n",
            "/opt/conda/lib/python3.7/site-packages/matplotlib/backends/backend_agg.py:240: RuntimeWarning: Glyph 2311 missing from current font.\n",
            "  font.set_text(s, 0.0, flags=flags)\n",
            "/opt/conda/lib/python3.7/site-packages/matplotlib/backends/backend_agg.py:240: RuntimeWarning: Glyph 2332 missing from current font.\n",
            "  font.set_text(s, 0.0, flags=flags)\n",
            "/opt/conda/lib/python3.7/site-packages/matplotlib/backends/backend_agg.py:240: RuntimeWarning: Glyph 2309 missing from current font.\n",
            "  font.set_text(s, 0.0, flags=flags)\n",
            "/opt/conda/lib/python3.7/site-packages/matplotlib/backends/backend_agg.py:203: RuntimeWarning: Glyph 2357 missing from current font.\n",
            "  font.set_text(s, 0, flags=flags)\n",
            "/opt/conda/lib/python3.7/site-packages/matplotlib/backends/backend_agg.py:203: RuntimeWarning: Glyph 2352 missing from current font.\n",
            "  font.set_text(s, 0, flags=flags)\n",
            "/opt/conda/lib/python3.7/site-packages/matplotlib/backends/backend_agg.py:203: RuntimeWarning: Glyph 2361 missing from current font.\n",
            "  font.set_text(s, 0, flags=flags)\n",
            "/opt/conda/lib/python3.7/site-packages/matplotlib/backends/backend_agg.py:203: RuntimeWarning: Glyph 2344 missing from current font.\n",
            "  font.set_text(s, 0, flags=flags)\n",
            "/opt/conda/lib/python3.7/site-packages/matplotlib/backends/backend_agg.py:203: RuntimeWarning: Glyph 2360 missing from current font.\n",
            "  font.set_text(s, 0, flags=flags)\n",
            "/opt/conda/lib/python3.7/site-packages/matplotlib/backends/backend_agg.py:203: RuntimeWarning: Glyph 2348 missing from current font.\n",
            "  font.set_text(s, 0, flags=flags)\n",
            "/opt/conda/lib/python3.7/site-packages/matplotlib/backends/backend_agg.py:203: RuntimeWarning: Glyph 2349 missing from current font.\n",
            "  font.set_text(s, 0, flags=flags)\n",
            "/opt/conda/lib/python3.7/site-packages/matplotlib/backends/backend_agg.py:203: RuntimeWarning: Glyph 2351 missing from current font.\n",
            "  font.set_text(s, 0, flags=flags)\n",
            "/opt/conda/lib/python3.7/site-packages/matplotlib/backends/backend_agg.py:203: RuntimeWarning: Glyph 2340 missing from current font.\n",
            "  font.set_text(s, 0, flags=flags)\n",
            "/opt/conda/lib/python3.7/site-packages/matplotlib/backends/backend_agg.py:203: RuntimeWarning: Glyph 2346 missing from current font.\n",
            "  font.set_text(s, 0, flags=flags)\n",
            "/opt/conda/lib/python3.7/site-packages/matplotlib/backends/backend_agg.py:203: RuntimeWarning: Glyph 1729 missing from current font.\n",
            "  font.set_text(s, 0, flags=flags)\n",
            "/opt/conda/lib/python3.7/site-packages/matplotlib/backends/backend_agg.py:203: RuntimeWarning: Glyph 1746 missing from current font.\n",
            "  font.set_text(s, 0, flags=flags)\n",
            "/opt/conda/lib/python3.7/site-packages/matplotlib/backends/backend_agg.py:203: RuntimeWarning: Glyph 2354 missing from current font.\n",
            "  font.set_text(s, 0, flags=flags)\n",
            "/opt/conda/lib/python3.7/site-packages/matplotlib/backends/backend_agg.py:203: RuntimeWarning: Glyph 2327 missing from current font.\n",
            "  font.set_text(s, 0, flags=flags)\n",
            "/opt/conda/lib/python3.7/site-packages/matplotlib/backends/backend_agg.py:203: RuntimeWarning: Glyph 2350 missing from current font.\n",
            "  font.set_text(s, 0, flags=flags)\n",
            "/opt/conda/lib/python3.7/site-packages/matplotlib/backends/backend_agg.py:203: RuntimeWarning: Glyph 2324 missing from current font.\n",
            "  font.set_text(s, 0, flags=flags)\n",
            "/opt/conda/lib/python3.7/site-packages/matplotlib/backends/backend_agg.py:203: RuntimeWarning: Glyph 2358 missing from current font.\n",
            "  font.set_text(s, 0, flags=flags)\n",
            "/opt/conda/lib/python3.7/site-packages/matplotlib/backends/backend_agg.py:203: RuntimeWarning: Glyph 2325 missing from current font.\n",
            "  font.set_text(s, 0, flags=flags)\n",
            "/opt/conda/lib/python3.7/site-packages/matplotlib/backends/backend_agg.py:203: RuntimeWarning: Glyph 2310 missing from current font.\n",
            "  font.set_text(s, 0, flags=flags)\n",
            "/opt/conda/lib/python3.7/site-packages/matplotlib/backends/backend_agg.py:203: RuntimeWarning: Glyph 2311 missing from current font.\n",
            "  font.set_text(s, 0, flags=flags)\n",
            "/opt/conda/lib/python3.7/site-packages/matplotlib/backends/backend_agg.py:203: RuntimeWarning: Glyph 2332 missing from current font.\n",
            "  font.set_text(s, 0, flags=flags)\n",
            "/opt/conda/lib/python3.7/site-packages/matplotlib/backends/backend_agg.py:203: RuntimeWarning: Glyph 2309 missing from current font.\n",
            "  font.set_text(s, 0, flags=flags)\n"
          ],
          "name": "stderr"
        },
        {
          "output_type": "display_data",
          "data": {
            "text/plain": [
              "<Figure size 1440x2160 with 10 Axes>"
            ],
            "image/png": "[encoded data removed]"
          },
          "metadata": {
            "tags": [],
            "needs_background": "light"
          }
        }
      ]
    },
    {
      "cell_type": "markdown",
      "metadata": {
        "id": "7FLfQLwlgqa3"
      },
      "source": [
        "Our test document has the highest probability to be part of the topic that our model assigned, which is the accurate classification.\n",
        "\n",
        "</br>\n",
        "\n",
        "### Testing model on unseen document"
      ]
    },
    {
      "cell_type": "code",
      "metadata": {
        "trusted": true,
        "id": "pTx9sJRNgqa3",
        "outputId": "6b8f5c36-3d22-470e-d1f1-85d4d9b62d87"
      },
      "source": [
        "unseen_document = 'Covid oxygen crisis'\n",
        "bow_vector = dictionary.doc2bow(preprocess(unseen_document))\n",
        "for index, score in sorted(lda_model[bow_vector], key=lambda tup: -1*tup[1]):\n",
        "    print(\"Score: {}\\t Topic: {}\".format(score, lda_model.print_topic(index, 5)))"
      ],
      "execution_count": null,
      "outputs": [
        {
          "output_type": "stream",
          "text": [
            "Score: 0.7749485373497009\t Topic: 0.009*\"oxygen\" + 0.007*\"covid\" + 0.007*\"good\" + 0.007*\"hai\" + 0.006*\"nazi\"\n",
            "Score: 0.02500983327627182\t Topic: 0.013*\"covid\" + 0.009*\"hai\" + 0.008*\"india\" + 0.008*\"shit\" + 0.007*\"ki\"\n",
            "Score: 0.025009289383888245\t Topic: 0.007*\"hai\" + 0.006*\"ہے\" + 0.005*\"ye\" + 0.005*\"covid\" + 0.005*\"time\"\n",
            "Score: 0.025005782023072243\t Topic: 0.008*\"patient\" + 0.008*\"hospit\" + 0.006*\"ki\" + 0.006*\"जय\" + 0.005*\"sir\"\n",
            "Score: 0.025004955008625984\t Topic: 0.045*\"नह\" + 0.035*\"सकत\" + 0.010*\"हत\" + 0.007*\"अपन\" + 0.007*\"लन\"\n",
            "Score: 0.025004835799336433\t Topic: 0.021*\"bengal\" + 0.016*\"hai\" + 0.009*\"student\" + 0.008*\"सरक\" + 0.008*\"anti\"\n",
            "Score: 0.025004802271723747\t Topic: 0.015*\"पर\" + 0.012*\"follow\" + 0.009*\"रह\" + 0.009*\"नह\" + 0.009*\"کے\"\n",
            "Score: 0.025004589930176735\t Topic: 0.015*\"hai\" + 0.007*\"ho\" + 0.007*\"नह\" + 0.007*\"सकत\" + 0.007*\"ka\"\n",
            "Score: 0.025003807619214058\t Topic: 0.023*\"रह\" + 0.011*\"नह\" + 0.008*\"और\" + 0.008*\"लग\" + 0.008*\"पर\"\n",
            "Score: 0.025003526359796524\t Topic: 0.017*\"पर\" + 0.012*\"और\" + 0.011*\"नह\" + 0.008*\"रह\" + 0.008*\"میں\"\n"
          ],
          "name": "stdout"
        }
      ]
    },
    {
      "cell_type": "code",
      "metadata": {
        "id": "l_Y4EZRQgqa3"
      },
      "source": [
        ""
      ],
      "execution_count": null,
      "outputs": []
    }
  ]
}